{
 "cells": [
  {
   "metadata": {
    "ExecuteTime": {
     "end_time": "2025-08-09T10:43:04.424055Z",
     "start_time": "2025-08-09T10:43:04.135436Z"
    }
   },
   "cell_type": "code",
   "source": [
    "import json\n",
    "with open(\"data/svm-ssq/final_data.json\", \"r\", encoding=\"utf-8\") as f:\n",
    "    train_data = json.load(f)"
   ],
   "id": "79ccfde7c9913a5c",
   "outputs": [],
   "execution_count": 48
  },
  {
   "cell_type": "code",
   "id": "initial_id",
   "metadata": {
    "collapsed": true,
    "ExecuteTime": {
     "end_time": "2025-08-09T10:52:53.027037Z",
     "start_time": "2025-08-09T10:52:29.798653Z"
    }
   },
   "source": [
    "from joblib import dump\n",
    "from sklearn.neural_network import MLPRegressor\n",
    "from sklearn.pipeline import make_pipeline\n",
    "from sklearn.preprocessing import StandardScaler\n",
    "\n",
    "mlp_reg = MLPRegressor(hidden_layer_sizes=[50, 50, 50], max_iter=500, solver='adam', learning_rate_init=0.001,\n",
    "                       random_state=42)\n",
    "pipeline = make_pipeline(StandardScaler(), mlp_reg)\n",
    "pipeline.fit(train_data['ball_0']['x_data'], train_data['ball_0']['y_data'])\n",
    "dump(pipeline, 'data/svm-ssq/model/ball_mlp_0.joblib')\n"
   ],
   "outputs": [
    {
     "data": {
      "text/plain": [
       "['data/svm-ssq/model/ball_mlp_0.joblib']"
      ]
     },
     "execution_count": 75,
     "metadata": {},
     "output_type": "execute_result"
    }
   ],
   "execution_count": 75
  },
  {
   "metadata": {
    "ExecuteTime": {
     "end_time": "2025-08-09T10:53:06.839274Z",
     "start_time": "2025-08-09T10:52:53.058072Z"
    }
   },
   "cell_type": "code",
   "source": [
    "mlp_reg = MLPRegressor(hidden_layer_sizes=[50, 50, 50], max_iter=750, solver='adam', learning_rate_init=0.01,\n",
    "                       random_state=42)\n",
    "pipeline = make_pipeline(StandardScaler(), mlp_reg)\n",
    "pipeline.fit(train_data['ball_1']['x_data'], train_data['ball_1']['y_data'])\n",
    "dump(pipeline, 'data/svm-ssq/model/ball_mlp_1.joblib')"
   ],
   "id": "f17b5976f4431fb2",
   "outputs": [
    {
     "data": {
      "text/plain": [
       "['data/svm-ssq/model/ball_mlp_1.joblib']"
      ]
     },
     "execution_count": 76,
     "metadata": {},
     "output_type": "execute_result"
    }
   ],
   "execution_count": 76
  },
  {
   "metadata": {
    "ExecuteTime": {
     "end_time": "2025-08-09T10:53:20.287041Z",
     "start_time": "2025-08-09T10:53:06.889451Z"
    }
   },
   "cell_type": "code",
   "source": [
    "mlp_reg = MLPRegressor(hidden_layer_sizes=[50, 50, 50], max_iter=1000, solver='adam', learning_rate_init=0.01,\n",
    "                       random_state=42)\n",
    "pipeline = make_pipeline(StandardScaler(), mlp_reg)\n",
    "pipeline.fit(train_data['ball_2']['x_data'], train_data['ball_2']['y_data'])\n",
    "dump(pipeline, 'data/svm-ssq/model/ball_mlp_2.joblib')"
   ],
   "id": "1b71bf6d8aa37f39",
   "outputs": [
    {
     "data": {
      "text/plain": [
       "['data/svm-ssq/model/ball_mlp_2.joblib']"
      ]
     },
     "execution_count": 77,
     "metadata": {},
     "output_type": "execute_result"
    }
   ],
   "execution_count": 77
  },
  {
   "metadata": {
    "ExecuteTime": {
     "end_time": "2025-08-09T10:53:34.894742Z",
     "start_time": "2025-08-09T10:53:20.320046Z"
    }
   },
   "cell_type": "code",
   "source": [
    "mlp_reg = MLPRegressor(hidden_layer_sizes=[50, 50, 50], max_iter=1250, solver='adam', learning_rate_init=0.01,\n",
    "                       random_state=42)\n",
    "pipeline = make_pipeline(StandardScaler(), mlp_reg)\n",
    "pipeline.fit(train_data['ball_3']['x_data'], train_data['ball_3']['y_data'])\n",
    "dump(pipeline, 'data/svm-ssq/model/ball_mlp_3.joblib')"
   ],
   "id": "6314bdd6c79d132f",
   "outputs": [
    {
     "data": {
      "text/plain": [
       "['data/svm-ssq/model/ball_mlp_3.joblib']"
      ]
     },
     "execution_count": 78,
     "metadata": {},
     "output_type": "execute_result"
    }
   ],
   "execution_count": 78
  },
  {
   "metadata": {
    "ExecuteTime": {
     "end_time": "2025-08-09T10:53:53.685970Z",
     "start_time": "2025-08-09T10:53:34.944309Z"
    }
   },
   "cell_type": "code",
   "source": [
    "mlp_reg = MLPRegressor(hidden_layer_sizes=[50, 50, 50], max_iter=1500, solver='adam', learning_rate_init=0.01,\n",
    "                       random_state=42)\n",
    "pipeline = make_pipeline(StandardScaler(), mlp_reg)\n",
    "pipeline.fit(train_data['ball_4']['x_data'], train_data['ball_4']['y_data'])\n",
    "dump(pipeline, 'data/svm-ssq/model/ball_mlp_4.joblib')"
   ],
   "id": "8a9891ea27ac1e10",
   "outputs": [
    {
     "data": {
      "text/plain": [
       "['data/svm-ssq/model/ball_mlp_4.joblib']"
      ]
     },
     "execution_count": 79,
     "metadata": {},
     "output_type": "execute_result"
    }
   ],
   "execution_count": 79
  },
  {
   "metadata": {
    "ExecuteTime": {
     "end_time": "2025-08-09T10:54:01.730591Z",
     "start_time": "2025-08-09T10:53:53.805737Z"
    }
   },
   "cell_type": "code",
   "source": [
    "mlp_reg = MLPRegressor(hidden_layer_sizes=[50, 50, 50], max_iter=2000, solver='adam', learning_rate_init=0.05,\n",
    "                       random_state=42)\n",
    "pipeline = make_pipeline(StandardScaler(), mlp_reg)\n",
    "pipeline.fit(train_data['ball_5']['x_data'], train_data['ball_5']['y_data'])\n",
    "dump(pipeline, 'data/svm-ssq/model/ball_mlp_5.joblib')"
   ],
   "id": "393bd5ae1f68331",
   "outputs": [
    {
     "data": {
      "text/plain": [
       "['data/svm-ssq/model/ball_mlp_5.joblib']"
      ]
     },
     "execution_count": 80,
     "metadata": {},
     "output_type": "execute_result"
    }
   ],
   "execution_count": 80
  },
  {
   "metadata": {
    "ExecuteTime": {
     "end_time": "2025-08-09T10:54:28.186270Z",
     "start_time": "2025-08-09T10:54:20.745071Z"
    }
   },
   "cell_type": "code",
   "source": [
    "mlp_reg = MLPRegressor(hidden_layer_sizes=[50, 50, 50], max_iter=2500, solver='adam', learning_rate_init=0.01,\n",
    "                       random_state=42)\n",
    "pipeline = make_pipeline(StandardScaler(), mlp_reg)\n",
    "pipeline.fit(train_data['ball_6']['x_data'], train_data['ball_6']['y_data'])\n",
    "dump(pipeline, 'data/svm-ssq/model/ball_mlp_6.joblib')"
   ],
   "id": "c465e22742bfa08f",
   "outputs": [
    {
     "data": {
      "text/plain": [
       "['data/svm-ssq/model/ball_mlp_6.joblib']"
      ]
     },
     "execution_count": 82,
     "metadata": {},
     "output_type": "execute_result"
    }
   ],
   "execution_count": 82
  },
  {
   "metadata": {
    "ExecuteTime": {
     "end_time": "2025-08-10T01:06:43.971566Z",
     "start_time": "2025-08-10T01:06:43.925152Z"
    }
   },
   "cell_type": "code",
   "source": [
    "import sxtwl\n",
    "def outTianGanDiZhi(year, month, day):\n",
    "    day = sxtwl.fromSolar(year, month, day)\n",
    "    Gan = [\"甲\", \"乙\", \"丙\", \"丁\", \"戊\", \"己\", \"庚\", \"辛\", \"壬\", \"癸\"]\n",
    "    Zhi = [\"子\", \"丑\", \"寅\", \"卯\", \"辰\", \"巳\", \"午\", \"未\", \"申\", \"酉\", \"戌\", \"亥\"]\n",
    "    tianGanDiZhi_years = ['甲子', '乙丑', '丙寅', '丁卯', '戊辰', '己巳', '庚午', '辛未', '壬申', '癸酉',\n",
    "                          '甲戌', '乙亥', '丙子', '丁丑', '戊寅', '己卯', '庚辰', '辛巳', '壬午', '癸未',\n",
    "                          '甲申', '乙酉', '丙戌', '丁亥', '戊子', '己丑', '庚寅', '辛卯', '壬辰', '癸巳',\n",
    "                          '甲午', '乙未', '丙申', '丁酉', '戊戌', '己亥', '庚子', '辛丑', '壬寅', '癸卯',\n",
    "                          '甲辰', '乙巳', '丙午', '丁未', '戊申', '己酉', '庚戌', '辛亥', '壬子', '癸丑',\n",
    "                          '甲寅', '乙卯', '丙辰', '丁巳', '戊午', '己未', '庚申', '辛酉', '壬戌', '癸亥']\n",
    "\n",
    "    def getGZIndex(tgDz):\n",
    "        for i in range(len(tianGanDiZhi_years)):\n",
    "            if tgDz == tianGanDiZhi_years[i]:\n",
    "                return i\n",
    "    \n",
    "    result = []\n",
    "    # 年\n",
    "    yTG = day.getYearGZ(True)\n",
    "    gz_year = Gan[yTG.tg] + Zhi[yTG.dz]\n",
    "    result.append(getGZIndex(gz_year))\n",
    "    \n",
    "    # 月\n",
    "    mTG = day.getMonthGZ()\n",
    "    gz_month = Gan[mTG.tg] + Zhi[mTG.dz]\n",
    "    result.append(getGZIndex(gz_month))\n",
    "    \n",
    "    # 日\n",
    "    dTG = day.getDayGZ()\n",
    "    gz_day = Gan[dTG.tg] + Zhi[dTG.dz]\n",
    "    result.append(getGZIndex(gz_day))\n",
    "    \n",
    "    # 生肖\n",
    "    result.append(yTG.dz)\n",
    "    \n",
    "    return result"
   ],
   "id": "30d9d9e5f94376fb",
   "outputs": [],
   "execution_count": 1
  },
  {
   "metadata": {
    "ExecuteTime": {
     "end_time": "2025-08-10T01:06:59.422289Z",
     "start_time": "2025-08-10T01:06:57.908286Z"
    }
   },
   "cell_type": "code",
   "source": [
    "from joblib import load\n",
    "import numpy as np\n",
    "\n",
    "# 加载之前保存的模型\n",
    "loaded_svm_clf = load('data/svm-ssq/model/ball_mlp_0.joblib')\n",
    "my_data = outTianGanDiZhi(2025, 8, 10)\n",
    "my_data.append(22)\n",
    "input_data = np.array(my_data) \n",
    "input_data_2d = input_data.reshape(1, -1)\n",
    "print(input_data_2d)\n",
    "loaded_svm_clf.predict(input_data_2d)"
   ],
   "id": "272fa22cd062e782",
   "outputs": [
    {
     "name": "stdout",
     "output_type": "stream",
     "text": [
      "[[41 20 47  5 22]]\n"
     ]
    },
    {
     "data": {
      "text/plain": [
       "array([1.88430688])"
      ]
     },
     "execution_count": 2,
     "metadata": {},
     "output_type": "execute_result"
    }
   ],
   "execution_count": 2
  },
  {
   "metadata": {
    "ExecuteTime": {
     "end_time": "2025-08-10T01:07:12.667938Z",
     "start_time": "2025-08-10T01:07:12.644938Z"
    }
   },
   "cell_type": "code",
   "source": [
    "from joblib import load\n",
    "import numpy as np\n",
    "\n",
    "# 加载之前保存的模型\n",
    "loaded_svm_clf = load('data/svm-ssq/model/ball_mlp_1.joblib')\n",
    "my_data = outTianGanDiZhi(2025, 8, 10)\n",
    "my_data.append(22)\n",
    "my_data.append(2)\n",
    "input_data = np.array(my_data) \n",
    "input_data_2d = input_data.reshape(1, -1)\n",
    "print(input_data_2d)\n",
    "loaded_svm_clf.predict(input_data_2d)"
   ],
   "id": "fa85f11b7804893c",
   "outputs": [
    {
     "name": "stdout",
     "output_type": "stream",
     "text": [
      "[[41 20 47  5 22  2]]\n"
     ]
    },
    {
     "data": {
      "text/plain": [
       "array([5.52329673])"
      ]
     },
     "execution_count": 3,
     "metadata": {},
     "output_type": "execute_result"
    }
   ],
   "execution_count": 3
  },
  {
   "metadata": {
    "ExecuteTime": {
     "end_time": "2025-08-10T01:07:23.969067Z",
     "start_time": "2025-08-10T01:07:23.942066Z"
    }
   },
   "cell_type": "code",
   "source": [
    "from joblib import load\n",
    "import numpy as np\n",
    "\n",
    "# 加载之前保存的模型\n",
    "loaded_svm_clf = load('data/svm-ssq/model/ball_mlp_2.joblib')\n",
    "my_data = outTianGanDiZhi(2025, 8, 10)\n",
    "my_data.append(22)\n",
    "my_data.append(2)\n",
    "my_data.append(6)\n",
    "input_data = np.array(my_data) \n",
    "input_data_2d = input_data.reshape(1, -1)\n",
    "print(input_data_2d)\n",
    "loaded_svm_clf.predict(input_data_2d)"
   ],
   "id": "5942ad3086ba9d98",
   "outputs": [
    {
     "name": "stdout",
     "output_type": "stream",
     "text": [
      "[[41 20 47  5 22  2  6]]\n"
     ]
    },
    {
     "data": {
      "text/plain": [
       "array([9.71000507])"
      ]
     },
     "execution_count": 4,
     "metadata": {},
     "output_type": "execute_result"
    }
   ],
   "execution_count": 4
  },
  {
   "metadata": {
    "ExecuteTime": {
     "end_time": "2025-08-10T01:07:40.702074Z",
     "start_time": "2025-08-10T01:07:40.675471Z"
    }
   },
   "cell_type": "code",
   "source": [
    "from joblib import load\n",
    "import numpy as np\n",
    "\n",
    "# 加载之前保存的模型\n",
    "loaded_svm_clf = load('data/svm-ssq/model/ball_mlp_3.joblib')\n",
    "my_data = outTianGanDiZhi(2025, 8, 10)\n",
    "my_data.append(22)\n",
    "my_data.append(2)\n",
    "my_data.append(6)\n",
    "my_data.append(10)\n",
    "input_data = np.array(my_data) \n",
    "input_data_2d = input_data.reshape(1, -1)\n",
    "print(input_data_2d)\n",
    "loaded_svm_clf.predict(input_data_2d)"
   ],
   "id": "4ba40f983bd5c2d",
   "outputs": [
    {
     "name": "stdout",
     "output_type": "stream",
     "text": [
      "[[41 20 47  5 22  2  6 10]]\n"
     ]
    },
    {
     "data": {
      "text/plain": [
       "array([17.57463256])"
      ]
     },
     "execution_count": 5,
     "metadata": {},
     "output_type": "execute_result"
    }
   ],
   "execution_count": 5
  },
  {
   "metadata": {
    "ExecuteTime": {
     "end_time": "2025-08-10T01:08:05.955653Z",
     "start_time": "2025-08-10T01:08:05.933329Z"
    }
   },
   "cell_type": "code",
   "source": [
    "from joblib import load\n",
    "import numpy as np\n",
    "\n",
    "# 加载之前保存的模型\n",
    "loaded_svm_clf = load('data/svm-ssq/model/ball_mlp_4.joblib')\n",
    "my_data = outTianGanDiZhi(2025, 8, 10)\n",
    "my_data.append(22)\n",
    "my_data.append(2)\n",
    "my_data.append(6)\n",
    "my_data.append(10)\n",
    "my_data.append(18)\n",
    "input_data = np.array(my_data) \n",
    "input_data_2d = input_data.reshape(1, -1)\n",
    "print(input_data_2d)\n",
    "loaded_svm_clf.predict(input_data_2d)"
   ],
   "id": "5ffe645379c20faa",
   "outputs": [
    {
     "name": "stdout",
     "output_type": "stream",
     "text": [
      "[[41 20 47  5 22  2  6 10 18]]\n"
     ]
    },
    {
     "data": {
      "text/plain": [
       "array([25.67572522])"
      ]
     },
     "execution_count": 6,
     "metadata": {},
     "output_type": "execute_result"
    }
   ],
   "execution_count": 6
  },
  {
   "metadata": {
    "ExecuteTime": {
     "end_time": "2025-08-10T01:09:01.258898Z",
     "start_time": "2025-08-10T01:09:01.223898Z"
    }
   },
   "cell_type": "code",
   "source": [
    "from joblib import load\n",
    "import numpy as np\n",
    "\n",
    "# 加载之前保存的模型\n",
    "loaded_svm_clf = load('data/svm-ssq/model/ball_mlp_5.joblib')\n",
    "my_data = outTianGanDiZhi(2025, 8, 10)\n",
    "my_data.append(22)\n",
    "my_data.append(2)\n",
    "my_data.append(6)\n",
    "my_data.append(10)\n",
    "my_data.append(18)\n",
    "my_data.append(26)\n",
    "input_data = np.array(my_data) \n",
    "input_data_2d = input_data.reshape(1, -1)\n",
    "print(input_data_2d)\n",
    "loaded_svm_clf.predict(input_data_2d)"
   ],
   "id": "b115e3a841727090",
   "outputs": [
    {
     "name": "stdout",
     "output_type": "stream",
     "text": [
      "[[41 20 47  5 22  2  6 10 18 26]]\n"
     ]
    },
    {
     "data": {
      "text/plain": [
       "array([27.2727982])"
      ]
     },
     "execution_count": 8,
     "metadata": {},
     "output_type": "execute_result"
    }
   ],
   "execution_count": 8
  },
  {
   "metadata": {
    "ExecuteTime": {
     "end_time": "2025-08-10T01:09:18.285817Z",
     "start_time": "2025-08-10T01:09:18.252844Z"
    }
   },
   "cell_type": "code",
   "source": [
    "from joblib import load\n",
    "import numpy as np\n",
    "\n",
    "# 加载之前保存的模型\n",
    "loaded_svm_clf = load('data/svm-ssq/model/ball_mlp_6.joblib')\n",
    "my_data = outTianGanDiZhi(2025, 8, 10)\n",
    "my_data.append(22)\n",
    "my_data.append(2)\n",
    "my_data.append(6)\n",
    "my_data.append(10)\n",
    "my_data.append(18)\n",
    "my_data.append(26)\n",
    "my_data.append(27)\n",
    "input_data = np.array(my_data) \n",
    "input_data_2d = input_data.reshape(1, -1)\n",
    "print(input_data_2d)\n",
    "loaded_svm_clf.predict(input_data_2d)"
   ],
   "id": "43a44ab5460105b",
   "outputs": [
    {
     "name": "stdout",
     "output_type": "stream",
     "text": [
      "[[41 20 47  5 22  2  6 10 18 26 27]]\n"
     ]
    },
    {
     "data": {
      "text/plain": [
       "array([8.2289399])"
      ]
     },
     "execution_count": 9,
     "metadata": {},
     "output_type": "execute_result"
    }
   ],
   "execution_count": 9
  }
 ],
 "metadata": {
  "kernelspec": {
   "display_name": "Python 3",
   "language": "python",
   "name": "python3"
  },
  "language_info": {
   "codemirror_mode": {
    "name": "ipython",
    "version": 2
   },
   "file_extension": ".py",
   "mimetype": "text/x-python",
   "name": "python",
   "nbconvert_exporter": "python",
   "pygments_lexer": "ipython2",
   "version": "2.7.6"
  }
 },
 "nbformat": 4,
 "nbformat_minor": 5
}
